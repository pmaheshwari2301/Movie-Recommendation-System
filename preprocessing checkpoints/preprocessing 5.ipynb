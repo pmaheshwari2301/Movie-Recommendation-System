{
 "cells": [
  {
   "cell_type": "code",
   "execution_count": 2,
   "metadata": {},
   "outputs": [],
   "source": [
    "import pandas as pd\n",
    "import numpy as np\n",
    "import requests\n",
    "import bs4 as bs\n",
    "import urllib.request"
   ]
  },
  {
   "cell_type": "code",
   "execution_count": 3,
   "metadata": {},
   "outputs": [],
   "source": [
    "link = \"https://en.wikipedia.org/wiki/List_of_American_films_of_2021\""
   ]
  },
  {
   "cell_type": "code",
   "execution_count": 4,
   "metadata": {},
   "outputs": [],
   "source": [
    "source = urllib.request.urlopen(link).read()\n",
    "soup = bs.BeautifulSoup(source,'lxml')"
   ]
  },
  {
   "cell_type": "code",
   "execution_count": 5,
   "metadata": {},
   "outputs": [],
   "source": [
    "tables = soup.find_all('table',class_='wikitable sortable')"
   ]
  },
  {
   "cell_type": "code",
   "execution_count": 6,
   "metadata": {},
   "outputs": [
    {
     "data": {
      "text/plain": [
       "4"
      ]
     },
     "execution_count": 6,
     "metadata": {},
     "output_type": "execute_result"
    }
   ],
   "source": [
    "len(tables)"
   ]
  },
  {
   "cell_type": "code",
   "execution_count": 7,
   "metadata": {},
   "outputs": [
    {
     "data": {
      "text/plain": [
       "bs4.element.Tag"
      ]
     },
     "execution_count": 7,
     "metadata": {},
     "output_type": "execute_result"
    }
   ],
   "source": [
    "type(tables[0])"
   ]
  },
  {
   "cell_type": "code",
   "execution_count": 8,
   "metadata": {},
   "outputs": [],
   "source": [
    "df1 = pd.read_html(str(tables[0]))[0]\n",
    "df2 = pd.read_html(str(tables[1]))[0]\n",
    "df3 = pd.read_html(str(tables[2]))[0]\n",
    "df4 = pd.read_html(str(tables[3]).replace(\"'1\\\"\\'\",'\"1\"'))[0]"
   ]
  },
  {
   "cell_type": "code",
   "execution_count": 9,
   "metadata": {},
   "outputs": [
    {
     "name": "stderr",
     "output_type": "stream",
     "text": [
      "C:\\Users\\Acer\\AppData\\Local\\Temp\\ipykernel_4476\\1752420719.py:1: FutureWarning: The frame.append method is deprecated and will be removed from pandas in a future version. Use pandas.concat instead.\n",
      "  df = df1.append(df2.append(df3.append(df4,ignore_index=True),ignore_index=True),ignore_index=True)\n"
     ]
    }
   ],
   "source": [
    "df = df1.append(df2.append(df3.append(df4,ignore_index=True),ignore_index=True),ignore_index=True)"
   ]
  },
  {
   "cell_type": "code",
   "execution_count": 10,
   "metadata": {},
   "outputs": [
    {
     "data": {
      "text/html": [
       "<div>\n",
       "<style scoped>\n",
       "    .dataframe tbody tr th:only-of-type {\n",
       "        vertical-align: middle;\n",
       "    }\n",
       "\n",
       "    .dataframe tbody tr th {\n",
       "        vertical-align: top;\n",
       "    }\n",
       "\n",
       "    .dataframe thead th {\n",
       "        text-align: right;\n",
       "    }\n",
       "</style>\n",
       "<table border=\"1\" class=\"dataframe\">\n",
       "  <thead>\n",
       "    <tr style=\"text-align: right;\">\n",
       "      <th></th>\n",
       "      <th>Opening</th>\n",
       "      <th>Opening.1</th>\n",
       "      <th>Title</th>\n",
       "      <th>Production company</th>\n",
       "      <th>Cast and crew</th>\n",
       "      <th>.mw-parser-output .tooltip-dotted{border-bottom:1px dotted;cursor:help}Ref.</th>\n",
       "      <th>Ref.</th>\n",
       "    </tr>\n",
       "  </thead>\n",
       "  <tbody>\n",
       "    <tr>\n",
       "      <th>0</th>\n",
       "      <td>JANUARY</td>\n",
       "      <td>1.0</td>\n",
       "      <td>Shadow in the Cloud</td>\n",
       "      <td>Vertical Entertainment</td>\n",
       "      <td>Roseanne Liang (director/screenplay); Max Land...</td>\n",
       "      <td>[2]</td>\n",
       "      <td>NaN</td>\n",
       "    </tr>\n",
       "    <tr>\n",
       "      <th>1</th>\n",
       "      <td>JANUARY</td>\n",
       "      <td>13.0</td>\n",
       "      <td>The White Tiger</td>\n",
       "      <td>Netflix</td>\n",
       "      <td>Ramin Bahrani (director/screenplay); Adarsh Go...</td>\n",
       "      <td>NaN</td>\n",
       "      <td>NaN</td>\n",
       "    </tr>\n",
       "    <tr>\n",
       "      <th>2</th>\n",
       "      <td>JANUARY</td>\n",
       "      <td>14.0</td>\n",
       "      <td>Locked Down</td>\n",
       "      <td>HBO Max / Warner Bros. Pictures</td>\n",
       "      <td>Doug Liman (director); Steven Knight (screenpl...</td>\n",
       "      <td>[3]</td>\n",
       "      <td>NaN</td>\n",
       "    </tr>\n",
       "    <tr>\n",
       "      <th>3</th>\n",
       "      <td>JANUARY</td>\n",
       "      <td>15.0</td>\n",
       "      <td>The Dig</td>\n",
       "      <td>Netflix / Clerkenwell Films</td>\n",
       "      <td>Simon Stone (director); Moira Buffini (screenp...</td>\n",
       "      <td>[4]</td>\n",
       "      <td>NaN</td>\n",
       "    </tr>\n",
       "    <tr>\n",
       "      <th>4</th>\n",
       "      <td>JANUARY</td>\n",
       "      <td>15.0</td>\n",
       "      <td>Outside the Wire</td>\n",
       "      <td>Netflix</td>\n",
       "      <td>Mikael Håfström (director); Rob Yescombe, Rowa...</td>\n",
       "      <td>[5]</td>\n",
       "      <td>NaN</td>\n",
       "    </tr>\n",
       "    <tr>\n",
       "      <th>...</th>\n",
       "      <td>...</td>\n",
       "      <td>...</td>\n",
       "      <td>...</td>\n",
       "      <td>...</td>\n",
       "      <td>...</td>\n",
       "      <td>...</td>\n",
       "      <td>...</td>\n",
       "    </tr>\n",
       "    <tr>\n",
       "      <th>353</th>\n",
       "      <td>DECEMBER</td>\n",
       "      <td>25.0</td>\n",
       "      <td>The Tragedy of Macbeth</td>\n",
       "      <td>Apple TV+ / A24 / IAC Films</td>\n",
       "      <td>Joel Coen (director/screenplay); Denzel Washin...</td>\n",
       "      <td>NaN</td>\n",
       "      <td>[271]</td>\n",
       "    </tr>\n",
       "    <tr>\n",
       "      <th>354</th>\n",
       "      <td>DECEMBER</td>\n",
       "      <td>25.0</td>\n",
       "      <td>A Journal for Jordan</td>\n",
       "      <td>Columbia Pictures / Escape Artists / Bron Studios</td>\n",
       "      <td>Denzel Washington (director); Virgil Williams ...</td>\n",
       "      <td>NaN</td>\n",
       "      <td>[272]</td>\n",
       "    </tr>\n",
       "    <tr>\n",
       "      <th>355</th>\n",
       "      <td>DECEMBER</td>\n",
       "      <td>25.0</td>\n",
       "      <td>American Underdog</td>\n",
       "      <td>Lionsgate</td>\n",
       "      <td>Erwin brothers (directors); Jon Erwin, David A...</td>\n",
       "      <td>NaN</td>\n",
       "      <td>[273]</td>\n",
       "    </tr>\n",
       "    <tr>\n",
       "      <th>356</th>\n",
       "      <td>DECEMBER</td>\n",
       "      <td>26.0</td>\n",
       "      <td>Memoria</td>\n",
       "      <td>Neon</td>\n",
       "      <td>Apichatpong Weerasethakul (director/acreenplay...</td>\n",
       "      <td>NaN</td>\n",
       "      <td>[274]</td>\n",
       "    </tr>\n",
       "    <tr>\n",
       "      <th>357</th>\n",
       "      <td>DECEMBER</td>\n",
       "      <td>NaN</td>\n",
       "      <td>NaN</td>\n",
       "      <td>NaN</td>\n",
       "      <td>NaN</td>\n",
       "      <td>NaN</td>\n",
       "      <td>NaN</td>\n",
       "    </tr>\n",
       "  </tbody>\n",
       "</table>\n",
       "<p>358 rows × 7 columns</p>\n",
       "</div>"
      ],
      "text/plain": [
       "      Opening  Opening.1                   Title  \\\n",
       "0     JANUARY        1.0     Shadow in the Cloud   \n",
       "1     JANUARY       13.0         The White Tiger   \n",
       "2     JANUARY       14.0             Locked Down   \n",
       "3     JANUARY       15.0                 The Dig   \n",
       "4     JANUARY       15.0        Outside the Wire   \n",
       "..        ...        ...                     ...   \n",
       "353  DECEMBER       25.0  The Tragedy of Macbeth   \n",
       "354  DECEMBER       25.0    A Journal for Jordan   \n",
       "355  DECEMBER       25.0       American Underdog   \n",
       "356  DECEMBER       26.0                 Memoria   \n",
       "357  DECEMBER        NaN                     NaN   \n",
       "\n",
       "                                    Production company  \\\n",
       "0                               Vertical Entertainment   \n",
       "1                                              Netflix   \n",
       "2                      HBO Max / Warner Bros. Pictures   \n",
       "3                          Netflix / Clerkenwell Films   \n",
       "4                                              Netflix   \n",
       "..                                                 ...   \n",
       "353                        Apple TV+ / A24 / IAC Films   \n",
       "354  Columbia Pictures / Escape Artists / Bron Studios   \n",
       "355                                          Lionsgate   \n",
       "356                                               Neon   \n",
       "357                                                NaN   \n",
       "\n",
       "                                         Cast and crew  \\\n",
       "0    Roseanne Liang (director/screenplay); Max Land...   \n",
       "1    Ramin Bahrani (director/screenplay); Adarsh Go...   \n",
       "2    Doug Liman (director); Steven Knight (screenpl...   \n",
       "3    Simon Stone (director); Moira Buffini (screenp...   \n",
       "4    Mikael Håfström (director); Rob Yescombe, Rowa...   \n",
       "..                                                 ...   \n",
       "353  Joel Coen (director/screenplay); Denzel Washin...   \n",
       "354  Denzel Washington (director); Virgil Williams ...   \n",
       "355  Erwin brothers (directors); Jon Erwin, David A...   \n",
       "356  Apichatpong Weerasethakul (director/acreenplay...   \n",
       "357                                                NaN   \n",
       "\n",
       "    .mw-parser-output .tooltip-dotted{border-bottom:1px dotted;cursor:help}Ref.  \\\n",
       "0                                                  [2]                            \n",
       "1                                                  NaN                            \n",
       "2                                                  [3]                            \n",
       "3                                                  [4]                            \n",
       "4                                                  [5]                            \n",
       "..                                                 ...                            \n",
       "353                                                NaN                            \n",
       "354                                                NaN                            \n",
       "355                                                NaN                            \n",
       "356                                                NaN                            \n",
       "357                                                NaN                            \n",
       "\n",
       "      Ref.  \n",
       "0      NaN  \n",
       "1      NaN  \n",
       "2      NaN  \n",
       "3      NaN  \n",
       "4      NaN  \n",
       "..     ...  \n",
       "353  [271]  \n",
       "354  [272]  \n",
       "355  [273]  \n",
       "356  [274]  \n",
       "357    NaN  \n",
       "\n",
       "[358 rows x 7 columns]"
      ]
     },
     "execution_count": 10,
     "metadata": {},
     "output_type": "execute_result"
    }
   ],
   "source": [
    "df"
   ]
  },
  {
   "cell_type": "code",
   "execution_count": 11,
   "metadata": {},
   "outputs": [],
   "source": [
    "df_2021 = df[['Title','Cast and crew']]"
   ]
  },
  {
   "cell_type": "code",
   "execution_count": 12,
   "metadata": {},
   "outputs": [
    {
     "data": {
      "text/html": [
       "<div>\n",
       "<style scoped>\n",
       "    .dataframe tbody tr th:only-of-type {\n",
       "        vertical-align: middle;\n",
       "    }\n",
       "\n",
       "    .dataframe tbody tr th {\n",
       "        vertical-align: top;\n",
       "    }\n",
       "\n",
       "    .dataframe thead th {\n",
       "        text-align: right;\n",
       "    }\n",
       "</style>\n",
       "<table border=\"1\" class=\"dataframe\">\n",
       "  <thead>\n",
       "    <tr style=\"text-align: right;\">\n",
       "      <th></th>\n",
       "      <th>Title</th>\n",
       "      <th>Cast and crew</th>\n",
       "    </tr>\n",
       "  </thead>\n",
       "  <tbody>\n",
       "    <tr>\n",
       "      <th>0</th>\n",
       "      <td>Shadow in the Cloud</td>\n",
       "      <td>Roseanne Liang (director/screenplay); Max Land...</td>\n",
       "    </tr>\n",
       "    <tr>\n",
       "      <th>1</th>\n",
       "      <td>The White Tiger</td>\n",
       "      <td>Ramin Bahrani (director/screenplay); Adarsh Go...</td>\n",
       "    </tr>\n",
       "    <tr>\n",
       "      <th>2</th>\n",
       "      <td>Locked Down</td>\n",
       "      <td>Doug Liman (director); Steven Knight (screenpl...</td>\n",
       "    </tr>\n",
       "    <tr>\n",
       "      <th>3</th>\n",
       "      <td>The Dig</td>\n",
       "      <td>Simon Stone (director); Moira Buffini (screenp...</td>\n",
       "    </tr>\n",
       "    <tr>\n",
       "      <th>4</th>\n",
       "      <td>Outside the Wire</td>\n",
       "      <td>Mikael Håfström (director); Rob Yescombe, Rowa...</td>\n",
       "    </tr>\n",
       "    <tr>\n",
       "      <th>...</th>\n",
       "      <td>...</td>\n",
       "      <td>...</td>\n",
       "    </tr>\n",
       "    <tr>\n",
       "      <th>353</th>\n",
       "      <td>The Tragedy of Macbeth</td>\n",
       "      <td>Joel Coen (director/screenplay); Denzel Washin...</td>\n",
       "    </tr>\n",
       "    <tr>\n",
       "      <th>354</th>\n",
       "      <td>A Journal for Jordan</td>\n",
       "      <td>Denzel Washington (director); Virgil Williams ...</td>\n",
       "    </tr>\n",
       "    <tr>\n",
       "      <th>355</th>\n",
       "      <td>American Underdog</td>\n",
       "      <td>Erwin brothers (directors); Jon Erwin, David A...</td>\n",
       "    </tr>\n",
       "    <tr>\n",
       "      <th>356</th>\n",
       "      <td>Memoria</td>\n",
       "      <td>Apichatpong Weerasethakul (director/acreenplay...</td>\n",
       "    </tr>\n",
       "    <tr>\n",
       "      <th>357</th>\n",
       "      <td>NaN</td>\n",
       "      <td>NaN</td>\n",
       "    </tr>\n",
       "  </tbody>\n",
       "</table>\n",
       "<p>358 rows × 2 columns</p>\n",
       "</div>"
      ],
      "text/plain": [
       "                      Title                                      Cast and crew\n",
       "0       Shadow in the Cloud  Roseanne Liang (director/screenplay); Max Land...\n",
       "1           The White Tiger  Ramin Bahrani (director/screenplay); Adarsh Go...\n",
       "2               Locked Down  Doug Liman (director); Steven Knight (screenpl...\n",
       "3                   The Dig  Simon Stone (director); Moira Buffini (screenp...\n",
       "4          Outside the Wire  Mikael Håfström (director); Rob Yescombe, Rowa...\n",
       "..                      ...                                                ...\n",
       "353  The Tragedy of Macbeth  Joel Coen (director/screenplay); Denzel Washin...\n",
       "354    A Journal for Jordan  Denzel Washington (director); Virgil Williams ...\n",
       "355       American Underdog  Erwin brothers (directors); Jon Erwin, David A...\n",
       "356                 Memoria  Apichatpong Weerasethakul (director/acreenplay...\n",
       "357                     NaN                                                NaN\n",
       "\n",
       "[358 rows x 2 columns]"
      ]
     },
     "execution_count": 12,
     "metadata": {},
     "output_type": "execute_result"
    }
   ],
   "source": [
    "df_2021"
   ]
  },
  {
   "cell_type": "code",
   "execution_count": 13,
   "metadata": {},
   "outputs": [
    {
     "name": "stdout",
     "output_type": "stream",
     "text": [
      "Requirement already satisfied: tmdbv3api in c:\\users\\acer\\appdata\\local\\packages\\pythonsoftwarefoundation.python.3.9_qbz5n2kfra8p0\\localcache\\local-packages\\python39\\site-packages (1.7.6)\n",
      "Requirement already satisfied: requests in c:\\users\\acer\\appdata\\local\\packages\\pythonsoftwarefoundation.python.3.9_qbz5n2kfra8p0\\localcache\\local-packages\\python39\\site-packages (from tmdbv3api) (2.27.1)\n",
      "Requirement already satisfied: idna<4,>=2.5 in c:\\users\\acer\\appdata\\local\\packages\\pythonsoftwarefoundation.python.3.9_qbz5n2kfra8p0\\localcache\\local-packages\\python39\\site-packages (from requests->tmdbv3api) (3.3)\n",
      "Requirement already satisfied: charset-normalizer~=2.0.0 in c:\\users\\acer\\appdata\\local\\packages\\pythonsoftwarefoundation.python.3.9_qbz5n2kfra8p0\\localcache\\local-packages\\python39\\site-packages (from requests->tmdbv3api) (2.0.12)\n",
      "Requirement already satisfied: urllib3<1.27,>=1.21.1 in c:\\users\\acer\\appdata\\local\\packages\\pythonsoftwarefoundation.python.3.9_qbz5n2kfra8p0\\localcache\\local-packages\\python39\\site-packages (from requests->tmdbv3api) (1.26.0)\n",
      "Requirement already satisfied: certifi>=2017.4.17 in c:\\users\\acer\\appdata\\local\\packages\\pythonsoftwarefoundation.python.3.9_qbz5n2kfra8p0\\localcache\\local-packages\\python39\\site-packages (from requests->tmdbv3api) (2022.5.18)\n"
     ]
    }
   ],
   "source": [
    "!pip install tmdbv3api"
   ]
  },
  {
   "cell_type": "code",
   "execution_count": 14,
   "metadata": {},
   "outputs": [],
   "source": [
    "from tmdbv3api import TMDb\n",
    "import json\n",
    "import requests\n",
    "tmdb = TMDb()\n",
    "tmdb.api_key = ''"
   ]
  },
  {
   "cell_type": "code",
   "execution_count": 28,
   "metadata": {},
   "outputs": [],
   "source": [
    "from tmdbv3api import Movie\n",
    "tmdb_movie = Movie() \n",
    "def get_genre(x):\n",
    "    genres = []\n",
    "    result = tmdb_movie.search(x)\n",
    "    if not result:\n",
    "      return np.NaN\n",
    "    else:\n",
    "      movie_id = result[0].id\n",
    "      response = requests.get('https://api.themoviedb.org/3/movie/{}?api_key=bcde36e9851c83a3426e0c71f62b619d'.format(movie_id))\n",
    "      data_json = response.json()\n",
    "      if data_json['genres']:\n",
    "          genre_str = \" \" \n",
    "          for i in range(0,len(data_json['genres'])):\n",
    "              genres.append(data_json['genres'][i]['name'])\n",
    "          return genre_str.join(genres)\n",
    "      else:\n",
    "          return np.NaN"
   ]
  },
  {
   "cell_type": "code",
   "execution_count": 32,
   "metadata": {},
   "outputs": [
    {
     "ename": "TMDbException",
     "evalue": "No API key found.",
     "output_type": "error",
     "traceback": [
      "\u001b[1;31m---------------------------------------------------------------------------\u001b[0m",
      "\u001b[1;31mTMDbException\u001b[0m                             Traceback (most recent call last)",
      "\u001b[1;32mc:\\Users\\Acer\\.jupyter\\AJAX-Movie-Recommendation-System-with-Sentiment-Analysis-1\\.ipynb_checkpoints\\preprocessing 5.ipynb Cell 15'\u001b[0m in \u001b[0;36m<cell line: 1>\u001b[1;34m()\u001b[0m\n\u001b[1;32m----> <a href='vscode-notebook-cell:/c%3A/Users/Acer/.jupyter/AJAX-Movie-Recommendation-System-with-Sentiment-Analysis-1/.ipynb_checkpoints/preprocessing%205.ipynb#ch0000014?line=0'>1</a>\u001b[0m df_2021[\u001b[39m'\u001b[39m\u001b[39mgenres\u001b[39m\u001b[39m'\u001b[39m] \u001b[39m=\u001b[39m df_2021[\u001b[39m'\u001b[39;49m\u001b[39mTitle\u001b[39;49m\u001b[39m'\u001b[39;49m]\u001b[39m.\u001b[39;49mmap(\u001b[39mlambda\u001b[39;49;00m x: get_genre(\u001b[39mstr\u001b[39;49m(x)))\n",
      "File \u001b[1;32m~\\AppData\\Local\\Packages\\PythonSoftwareFoundation.Python.3.9_qbz5n2kfra8p0\\LocalCache\\local-packages\\Python39\\site-packages\\pandas\\core\\series.py:4237\u001b[0m, in \u001b[0;36mSeries.map\u001b[1;34m(self, arg, na_action)\u001b[0m\n\u001b[0;32m   <a href='file:///c%3A/Users/Acer/AppData/Local/Packages/PythonSoftwareFoundation.Python.3.9_qbz5n2kfra8p0/LocalCache/local-packages/Python39/site-packages/pandas/core/series.py?line=4161'>4162</a>\u001b[0m \u001b[39mdef\u001b[39;00m \u001b[39mmap\u001b[39m(\u001b[39mself\u001b[39m, arg, na_action\u001b[39m=\u001b[39m\u001b[39mNone\u001b[39;00m) \u001b[39m-\u001b[39m\u001b[39m>\u001b[39m Series:\n\u001b[0;32m   <a href='file:///c%3A/Users/Acer/AppData/Local/Packages/PythonSoftwareFoundation.Python.3.9_qbz5n2kfra8p0/LocalCache/local-packages/Python39/site-packages/pandas/core/series.py?line=4162'>4163</a>\u001b[0m     \u001b[39m\"\"\"\u001b[39;00m\n\u001b[0;32m   <a href='file:///c%3A/Users/Acer/AppData/Local/Packages/PythonSoftwareFoundation.Python.3.9_qbz5n2kfra8p0/LocalCache/local-packages/Python39/site-packages/pandas/core/series.py?line=4163'>4164</a>\u001b[0m \u001b[39m    Map values of Series according to an input mapping or function.\u001b[39;00m\n\u001b[0;32m   <a href='file:///c%3A/Users/Acer/AppData/Local/Packages/PythonSoftwareFoundation.Python.3.9_qbz5n2kfra8p0/LocalCache/local-packages/Python39/site-packages/pandas/core/series.py?line=4164'>4165</a>\u001b[0m \n\u001b[1;32m   (...)\u001b[0m\n\u001b[0;32m   <a href='file:///c%3A/Users/Acer/AppData/Local/Packages/PythonSoftwareFoundation.Python.3.9_qbz5n2kfra8p0/LocalCache/local-packages/Python39/site-packages/pandas/core/series.py?line=4234'>4235</a>\u001b[0m \u001b[39m    dtype: object\u001b[39;00m\n\u001b[0;32m   <a href='file:///c%3A/Users/Acer/AppData/Local/Packages/PythonSoftwareFoundation.Python.3.9_qbz5n2kfra8p0/LocalCache/local-packages/Python39/site-packages/pandas/core/series.py?line=4235'>4236</a>\u001b[0m \u001b[39m    \"\"\"\u001b[39;00m\n\u001b[1;32m-> <a href='file:///c%3A/Users/Acer/AppData/Local/Packages/PythonSoftwareFoundation.Python.3.9_qbz5n2kfra8p0/LocalCache/local-packages/Python39/site-packages/pandas/core/series.py?line=4236'>4237</a>\u001b[0m     new_values \u001b[39m=\u001b[39m \u001b[39mself\u001b[39;49m\u001b[39m.\u001b[39;49m_map_values(arg, na_action\u001b[39m=\u001b[39;49mna_action)\n\u001b[0;32m   <a href='file:///c%3A/Users/Acer/AppData/Local/Packages/PythonSoftwareFoundation.Python.3.9_qbz5n2kfra8p0/LocalCache/local-packages/Python39/site-packages/pandas/core/series.py?line=4237'>4238</a>\u001b[0m     \u001b[39mreturn\u001b[39;00m \u001b[39mself\u001b[39m\u001b[39m.\u001b[39m_constructor(new_values, index\u001b[39m=\u001b[39m\u001b[39mself\u001b[39m\u001b[39m.\u001b[39mindex)\u001b[39m.\u001b[39m__finalize__(\n\u001b[0;32m   <a href='file:///c%3A/Users/Acer/AppData/Local/Packages/PythonSoftwareFoundation.Python.3.9_qbz5n2kfra8p0/LocalCache/local-packages/Python39/site-packages/pandas/core/series.py?line=4238'>4239</a>\u001b[0m         \u001b[39mself\u001b[39m, method\u001b[39m=\u001b[39m\u001b[39m\"\u001b[39m\u001b[39mmap\u001b[39m\u001b[39m\"\u001b[39m\n\u001b[0;32m   <a href='file:///c%3A/Users/Acer/AppData/Local/Packages/PythonSoftwareFoundation.Python.3.9_qbz5n2kfra8p0/LocalCache/local-packages/Python39/site-packages/pandas/core/series.py?line=4239'>4240</a>\u001b[0m     )\n",
      "File \u001b[1;32m~\\AppData\\Local\\Packages\\PythonSoftwareFoundation.Python.3.9_qbz5n2kfra8p0\\LocalCache\\local-packages\\Python39\\site-packages\\pandas\\core\\base.py:880\u001b[0m, in \u001b[0;36mIndexOpsMixin._map_values\u001b[1;34m(self, mapper, na_action)\u001b[0m\n\u001b[0;32m    <a href='file:///c%3A/Users/Acer/AppData/Local/Packages/PythonSoftwareFoundation.Python.3.9_qbz5n2kfra8p0/LocalCache/local-packages/Python39/site-packages/pandas/core/base.py?line=876'>877</a>\u001b[0m         \u001b[39mraise\u001b[39;00m \u001b[39mValueError\u001b[39;00m(msg)\n\u001b[0;32m    <a href='file:///c%3A/Users/Acer/AppData/Local/Packages/PythonSoftwareFoundation.Python.3.9_qbz5n2kfra8p0/LocalCache/local-packages/Python39/site-packages/pandas/core/base.py?line=878'>879</a>\u001b[0m \u001b[39m# mapper is a function\u001b[39;00m\n\u001b[1;32m--> <a href='file:///c%3A/Users/Acer/AppData/Local/Packages/PythonSoftwareFoundation.Python.3.9_qbz5n2kfra8p0/LocalCache/local-packages/Python39/site-packages/pandas/core/base.py?line=879'>880</a>\u001b[0m new_values \u001b[39m=\u001b[39m map_f(values, mapper)\n\u001b[0;32m    <a href='file:///c%3A/Users/Acer/AppData/Local/Packages/PythonSoftwareFoundation.Python.3.9_qbz5n2kfra8p0/LocalCache/local-packages/Python39/site-packages/pandas/core/base.py?line=881'>882</a>\u001b[0m \u001b[39mreturn\u001b[39;00m new_values\n",
      "File \u001b[1;32m~\\AppData\\Local\\Packages\\PythonSoftwareFoundation.Python.3.9_qbz5n2kfra8p0\\LocalCache\\local-packages\\Python39\\site-packages\\pandas\\_libs\\lib.pyx:2870\u001b[0m, in \u001b[0;36mpandas._libs.lib.map_infer\u001b[1;34m()\u001b[0m\n",
      "\u001b[1;32mc:\\Users\\Acer\\.jupyter\\AJAX-Movie-Recommendation-System-with-Sentiment-Analysis-1\\.ipynb_checkpoints\\preprocessing 5.ipynb Cell 15'\u001b[0m in \u001b[0;36m<lambda>\u001b[1;34m(x)\u001b[0m\n\u001b[1;32m----> <a href='vscode-notebook-cell:/c%3A/Users/Acer/.jupyter/AJAX-Movie-Recommendation-System-with-Sentiment-Analysis-1/.ipynb_checkpoints/preprocessing%205.ipynb#ch0000014?line=0'>1</a>\u001b[0m df_2021[\u001b[39m'\u001b[39m\u001b[39mgenres\u001b[39m\u001b[39m'\u001b[39m] \u001b[39m=\u001b[39m df_2021[\u001b[39m'\u001b[39m\u001b[39mTitle\u001b[39m\u001b[39m'\u001b[39m]\u001b[39m.\u001b[39mmap(\u001b[39mlambda\u001b[39;00m x: get_genre(\u001b[39mstr\u001b[39;49m(x)))\n",
      "\u001b[1;32mc:\\Users\\Acer\\.jupyter\\AJAX-Movie-Recommendation-System-with-Sentiment-Analysis-1\\.ipynb_checkpoints\\preprocessing 5.ipynb Cell 14'\u001b[0m in \u001b[0;36mget_genre\u001b[1;34m(x)\u001b[0m\n\u001b[0;32m      <a href='vscode-notebook-cell:/c%3A/Users/Acer/.jupyter/AJAX-Movie-Recommendation-System-with-Sentiment-Analysis-1/.ipynb_checkpoints/preprocessing%205.ipynb#ch0000013?line=2'>3</a>\u001b[0m \u001b[39mdef\u001b[39;00m \u001b[39mget_genre\u001b[39m(x):\n\u001b[0;32m      <a href='vscode-notebook-cell:/c%3A/Users/Acer/.jupyter/AJAX-Movie-Recommendation-System-with-Sentiment-Analysis-1/.ipynb_checkpoints/preprocessing%205.ipynb#ch0000013?line=3'>4</a>\u001b[0m     genres \u001b[39m=\u001b[39m []\n\u001b[1;32m----> <a href='vscode-notebook-cell:/c%3A/Users/Acer/.jupyter/AJAX-Movie-Recommendation-System-with-Sentiment-Analysis-1/.ipynb_checkpoints/preprocessing%205.ipynb#ch0000013?line=4'>5</a>\u001b[0m     result \u001b[39m=\u001b[39m tmdb_movie\u001b[39m.\u001b[39;49msearch(x)\n\u001b[0;32m      <a href='vscode-notebook-cell:/c%3A/Users/Acer/.jupyter/AJAX-Movie-Recommendation-System-with-Sentiment-Analysis-1/.ipynb_checkpoints/preprocessing%205.ipynb#ch0000013?line=5'>6</a>\u001b[0m     \u001b[39mif\u001b[39;00m \u001b[39mnot\u001b[39;00m result:\n\u001b[0;32m      <a href='vscode-notebook-cell:/c%3A/Users/Acer/.jupyter/AJAX-Movie-Recommendation-System-with-Sentiment-Analysis-1/.ipynb_checkpoints/preprocessing%205.ipynb#ch0000013?line=6'>7</a>\u001b[0m       \u001b[39mreturn\u001b[39;00m np\u001b[39m.\u001b[39mNaN\n",
      "File \u001b[1;32m~\\AppData\\Local\\Packages\\PythonSoftwareFoundation.Python.3.9_qbz5n2kfra8p0\\LocalCache\\local-packages\\Python39\\site-packages\\tmdbv3api\\objs\\movie.py:222\u001b[0m, in \u001b[0;36mMovie.search\u001b[1;34m(self, term, page)\u001b[0m\n\u001b[0;32m    <a href='file:///c%3A/Users/Acer/AppData/Local/Packages/PythonSoftwareFoundation.Python.3.9_qbz5n2kfra8p0/LocalCache/local-packages/Python39/site-packages/tmdbv3api/objs/movie.py?line=213'>214</a>\u001b[0m \u001b[39mdef\u001b[39;00m \u001b[39msearch\u001b[39m(\u001b[39mself\u001b[39m, term, page\u001b[39m=\u001b[39m\u001b[39m1\u001b[39m):\n\u001b[0;32m    <a href='file:///c%3A/Users/Acer/AppData/Local/Packages/PythonSoftwareFoundation.Python.3.9_qbz5n2kfra8p0/LocalCache/local-packages/Python39/site-packages/tmdbv3api/objs/movie.py?line=214'>215</a>\u001b[0m     \u001b[39m\"\"\"\u001b[39;00m\n\u001b[0;32m    <a href='file:///c%3A/Users/Acer/AppData/Local/Packages/PythonSoftwareFoundation.Python.3.9_qbz5n2kfra8p0/LocalCache/local-packages/Python39/site-packages/tmdbv3api/objs/movie.py?line=215'>216</a>\u001b[0m \u001b[39m    Search for movies.\u001b[39;00m\n\u001b[0;32m    <a href='file:///c%3A/Users/Acer/AppData/Local/Packages/PythonSoftwareFoundation.Python.3.9_qbz5n2kfra8p0/LocalCache/local-packages/Python39/site-packages/tmdbv3api/objs/movie.py?line=216'>217</a>\u001b[0m \u001b[39m    :param term:\u001b[39;00m\n\u001b[0;32m    <a href='file:///c%3A/Users/Acer/AppData/Local/Packages/PythonSoftwareFoundation.Python.3.9_qbz5n2kfra8p0/LocalCache/local-packages/Python39/site-packages/tmdbv3api/objs/movie.py?line=217'>218</a>\u001b[0m \u001b[39m    :param page:\u001b[39;00m\n\u001b[0;32m    <a href='file:///c%3A/Users/Acer/AppData/Local/Packages/PythonSoftwareFoundation.Python.3.9_qbz5n2kfra8p0/LocalCache/local-packages/Python39/site-packages/tmdbv3api/objs/movie.py?line=218'>219</a>\u001b[0m \u001b[39m    :return:\u001b[39;00m\n\u001b[0;32m    <a href='file:///c%3A/Users/Acer/AppData/Local/Packages/PythonSoftwareFoundation.Python.3.9_qbz5n2kfra8p0/LocalCache/local-packages/Python39/site-packages/tmdbv3api/objs/movie.py?line=219'>220</a>\u001b[0m \u001b[39m    \"\"\"\u001b[39;00m\n\u001b[0;32m    <a href='file:///c%3A/Users/Acer/AppData/Local/Packages/PythonSoftwareFoundation.Python.3.9_qbz5n2kfra8p0/LocalCache/local-packages/Python39/site-packages/tmdbv3api/objs/movie.py?line=220'>221</a>\u001b[0m     \u001b[39mreturn\u001b[39;00m \u001b[39mself\u001b[39m\u001b[39m.\u001b[39m_get_obj(\n\u001b[1;32m--> <a href='file:///c%3A/Users/Acer/AppData/Local/Packages/PythonSoftwareFoundation.Python.3.9_qbz5n2kfra8p0/LocalCache/local-packages/Python39/site-packages/tmdbv3api/objs/movie.py?line=221'>222</a>\u001b[0m         \u001b[39mself\u001b[39;49m\u001b[39m.\u001b[39;49m_call(\n\u001b[0;32m    <a href='file:///c%3A/Users/Acer/AppData/Local/Packages/PythonSoftwareFoundation.Python.3.9_qbz5n2kfra8p0/LocalCache/local-packages/Python39/site-packages/tmdbv3api/objs/movie.py?line=222'>223</a>\u001b[0m             \u001b[39mself\u001b[39;49m\u001b[39m.\u001b[39;49m_urls[\u001b[39m\"\u001b[39;49m\u001b[39msearch_movie\u001b[39;49m\u001b[39m\"\u001b[39;49m],\n\u001b[0;32m    <a href='file:///c%3A/Users/Acer/AppData/Local/Packages/PythonSoftwareFoundation.Python.3.9_qbz5n2kfra8p0/LocalCache/local-packages/Python39/site-packages/tmdbv3api/objs/movie.py?line=223'>224</a>\u001b[0m             \u001b[39m\"\u001b[39;49m\u001b[39mquery=\u001b[39;49m\u001b[39m\"\u001b[39;49m \u001b[39m+\u001b[39;49m quote(term) \u001b[39m+\u001b[39;49m \u001b[39m\"\u001b[39;49m\u001b[39m&page=\u001b[39;49m\u001b[39m\"\u001b[39;49m \u001b[39m+\u001b[39;49m \u001b[39mstr\u001b[39;49m(page),\n\u001b[0;32m    <a href='file:///c%3A/Users/Acer/AppData/Local/Packages/PythonSoftwareFoundation.Python.3.9_qbz5n2kfra8p0/LocalCache/local-packages/Python39/site-packages/tmdbv3api/objs/movie.py?line=224'>225</a>\u001b[0m         )\n\u001b[0;32m    <a href='file:///c%3A/Users/Acer/AppData/Local/Packages/PythonSoftwareFoundation.Python.3.9_qbz5n2kfra8p0/LocalCache/local-packages/Python39/site-packages/tmdbv3api/objs/movie.py?line=225'>226</a>\u001b[0m     )\n",
      "File \u001b[1;32m~\\AppData\\Local\\Packages\\PythonSoftwareFoundation.Python.3.9_qbz5n2kfra8p0\\LocalCache\\local-packages\\Python39\\site-packages\\tmdbv3api\\tmdb.py:120\u001b[0m, in \u001b[0;36mTMDb._call\u001b[1;34m(self, action, append_to_response, call_cached, method, data)\u001b[0m\n\u001b[0;32m    <a href='file:///c%3A/Users/Acer/AppData/Local/Packages/PythonSoftwareFoundation.Python.3.9_qbz5n2kfra8p0/LocalCache/local-packages/Python39/site-packages/tmdbv3api/tmdb.py?line=115'>116</a>\u001b[0m \u001b[39mdef\u001b[39;00m \u001b[39m_call\u001b[39m(\n\u001b[0;32m    <a href='file:///c%3A/Users/Acer/AppData/Local/Packages/PythonSoftwareFoundation.Python.3.9_qbz5n2kfra8p0/LocalCache/local-packages/Python39/site-packages/tmdbv3api/tmdb.py?line=116'>117</a>\u001b[0m     \u001b[39mself\u001b[39m, action, append_to_response, call_cached\u001b[39m=\u001b[39m\u001b[39mTrue\u001b[39;00m, method\u001b[39m=\u001b[39m\u001b[39m\"\u001b[39m\u001b[39mGET\u001b[39m\u001b[39m\"\u001b[39m, data\u001b[39m=\u001b[39m\u001b[39mNone\u001b[39;00m\n\u001b[0;32m    <a href='file:///c%3A/Users/Acer/AppData/Local/Packages/PythonSoftwareFoundation.Python.3.9_qbz5n2kfra8p0/LocalCache/local-packages/Python39/site-packages/tmdbv3api/tmdb.py?line=117'>118</a>\u001b[0m ):\n\u001b[0;32m    <a href='file:///c%3A/Users/Acer/AppData/Local/Packages/PythonSoftwareFoundation.Python.3.9_qbz5n2kfra8p0/LocalCache/local-packages/Python39/site-packages/tmdbv3api/tmdb.py?line=118'>119</a>\u001b[0m     \u001b[39mif\u001b[39;00m \u001b[39mself\u001b[39m\u001b[39m.\u001b[39mapi_key \u001b[39mis\u001b[39;00m \u001b[39mNone\u001b[39;00m \u001b[39mor\u001b[39;00m \u001b[39mself\u001b[39m\u001b[39m.\u001b[39mapi_key \u001b[39m==\u001b[39m \u001b[39m\"\u001b[39m\u001b[39m\"\u001b[39m:\n\u001b[1;32m--> <a href='file:///c%3A/Users/Acer/AppData/Local/Packages/PythonSoftwareFoundation.Python.3.9_qbz5n2kfra8p0/LocalCache/local-packages/Python39/site-packages/tmdbv3api/tmdb.py?line=119'>120</a>\u001b[0m         \u001b[39mraise\u001b[39;00m TMDbException(\u001b[39m\"\u001b[39m\u001b[39mNo API key found.\u001b[39m\u001b[39m\"\u001b[39m)\n\u001b[0;32m    <a href='file:///c%3A/Users/Acer/AppData/Local/Packages/PythonSoftwareFoundation.Python.3.9_qbz5n2kfra8p0/LocalCache/local-packages/Python39/site-packages/tmdbv3api/tmdb.py?line=121'>122</a>\u001b[0m     url \u001b[39m=\u001b[39m \u001b[39m\"\u001b[39m\u001b[39m%s\u001b[39;00m\u001b[39m%s\u001b[39;00m\u001b[39m?api_key=\u001b[39m\u001b[39m%s\u001b[39;00m\u001b[39m&\u001b[39m\u001b[39m%s\u001b[39;00m\u001b[39m&language=\u001b[39m\u001b[39m%s\u001b[39;00m\u001b[39m\"\u001b[39m \u001b[39m%\u001b[39m (\n\u001b[0;32m    <a href='file:///c%3A/Users/Acer/AppData/Local/Packages/PythonSoftwareFoundation.Python.3.9_qbz5n2kfra8p0/LocalCache/local-packages/Python39/site-packages/tmdbv3api/tmdb.py?line=122'>123</a>\u001b[0m         \u001b[39mself\u001b[39m\u001b[39m.\u001b[39m_base,\n\u001b[0;32m    <a href='file:///c%3A/Users/Acer/AppData/Local/Packages/PythonSoftwareFoundation.Python.3.9_qbz5n2kfra8p0/LocalCache/local-packages/Python39/site-packages/tmdbv3api/tmdb.py?line=123'>124</a>\u001b[0m         action,\n\u001b[1;32m   (...)\u001b[0m\n\u001b[0;32m    <a href='file:///c%3A/Users/Acer/AppData/Local/Packages/PythonSoftwareFoundation.Python.3.9_qbz5n2kfra8p0/LocalCache/local-packages/Python39/site-packages/tmdbv3api/tmdb.py?line=126'>127</a>\u001b[0m         \u001b[39mself\u001b[39m\u001b[39m.\u001b[39mlanguage,\n\u001b[0;32m    <a href='file:///c%3A/Users/Acer/AppData/Local/Packages/PythonSoftwareFoundation.Python.3.9_qbz5n2kfra8p0/LocalCache/local-packages/Python39/site-packages/tmdbv3api/tmdb.py?line=127'>128</a>\u001b[0m     )\n\u001b[0;32m    <a href='file:///c%3A/Users/Acer/AppData/Local/Packages/PythonSoftwareFoundation.Python.3.9_qbz5n2kfra8p0/LocalCache/local-packages/Python39/site-packages/tmdbv3api/tmdb.py?line=129'>130</a>\u001b[0m     \u001b[39mif\u001b[39;00m \u001b[39mself\u001b[39m\u001b[39m.\u001b[39mcache \u001b[39mand\u001b[39;00m \u001b[39mself\u001b[39m\u001b[39m.\u001b[39mobj_cached \u001b[39mand\u001b[39;00m call_cached \u001b[39mand\u001b[39;00m method \u001b[39m!=\u001b[39m \u001b[39m\"\u001b[39m\u001b[39mPOST\u001b[39m\u001b[39m\"\u001b[39m:\n",
      "\u001b[1;31mTMDbException\u001b[0m: No API key found."
     ]
    }
   ],
   "source": [
    "df_2021['genres'] = df_2021['Title'].map(lambda x: get_genre(str(x)))"
   ]
  }
 ],
 "metadata": {
  "interpreter": {
   "hash": "05108610d0486cbd94318b4e9322c34d020e3203e3eec4232981ef8e61be533b"
  },
  "kernelspec": {
   "display_name": "Python 3.9.13 64-bit (windows store)",
   "language": "python",
   "name": "python3"
  },
  "language_info": {
   "codemirror_mode": {
    "name": "ipython",
    "version": 3
   },
   "file_extension": ".py",
   "mimetype": "text/x-python",
   "name": "python",
   "nbconvert_exporter": "python",
   "pygments_lexer": "ipython3",
   "version": "3.9.13"
  },
  "orig_nbformat": 4
 },
 "nbformat": 4,
 "nbformat_minor": 2
}
